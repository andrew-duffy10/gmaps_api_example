{
 "cells": [
  {
   "cell_type": "code",
   "execution_count": 1,
   "id": "66f0019b",
   "metadata": {},
   "outputs": [
    {
     "data": {
      "application/vnd.jupyter.widget-view+json": {
       "model_id": "76d1691878df4ea4ba2bbfe2991f6ea5",
       "version_major": 2,
       "version_minor": 0
      },
      "text/plain": [
       "Figure(layout=FigureLayout(height='420px'))"
      ]
     },
     "metadata": {},
     "output_type": "display_data"
    }
   ],
   "source": [
    "from matplotlib.cm import viridis\n",
    "from matplotlib.colors import to_hex\n",
    "\n",
    "import gmaps\n",
    "import gmaps.datasets\n",
    "import gmaps.geojson_geometries\n",
    "\n",
    "gmaps.configure(api_key='TODO: FILL IN YOUR API KEY') # Your Google API key\n",
    "\n",
    "countries_geojson = gmaps.geojson_geometries.load_geometry('countries') # Load GeoJSON of countries\n",
    "\n",
    "rows = gmaps.datasets.load_dataset('gini') # 'rows' is a list of tuples\n",
    "country2gini = dict(rows) # dictionary mapping 'country' -> gini coefficient\n",
    "min_gini = min(country2gini.values())\n",
    "max_gini = max(country2gini.values())\n",
    "gini_range = max_gini - min_gini\n",
    "\n",
    "def calculate_color(gini):\n",
    "    \"\"\"\n",
    "    Convert the GINI coefficient to a color\n",
    "    \"\"\"\n",
    "    # make gini a number between 0 and 1\n",
    "    normalized_gini = (gini - min_gini) / gini_range\n",
    "\n",
    "    # invert gini so that high inequality gives dark color\n",
    "    inverse_gini = 1.0 - normalized_gini\n",
    "\n",
    "    # transform the gini coefficient to a matplotlib color\n",
    "    mpl_color = viridis(inverse_gini)\n",
    "\n",
    "    # transform from a matplotlib color to a valid CSS color\n",
    "    gmaps_color = to_hex(mpl_color, keep_alpha=False)\n",
    "\n",
    "    return gmaps_color\n",
    "\n",
    "# Calculate a color for each GeoJSON feature\n",
    "colors = []\n",
    "for feature in countries_geojson['features']:\n",
    "    country_name = feature['properties']['name']\n",
    "    try:\n",
    "        gini = country2gini[country_name]\n",
    "        color = calculate_color(gini)\n",
    "    except KeyError:\n",
    "        # no GINI for that country: return default color\n",
    "        color = (0, 0, 0, 0.3)\n",
    "    colors.append(color)\n",
    "\n",
    "fig = gmaps.figure()\n",
    "gini_layer = gmaps.geojson_layer(\n",
    "    countries_geojson,\n",
    "    fill_color=colors,\n",
    "    stroke_color=colors,\n",
    "    fill_opacity=0.8)\n",
    "fig.add_layer(gini_layer)\n",
    "fig"
   ]
  },
  {
   "cell_type": "code",
   "execution_count": 2,
   "id": "0b4f01ef",
   "metadata": {},
   "outputs": [
    {
     "data": {
      "application/vnd.jupyter.widget-view+json": {
       "model_id": "98fb382d82a941d6a2604e6ed55b2301",
       "version_major": 2,
       "version_minor": 0
      },
      "text/plain": [
       "Figure(layout=FigureLayout(height='420px'))"
      ]
     },
     "metadata": {},
     "output_type": "display_data"
    }
   ],
   "source": [
    "\n",
    "\n",
    "df = gmaps.datasets.load_dataset_as_df('starbucks_kfc_uk')\n",
    "\n",
    "starbucks_df = df[df['chain_name'] == 'starbucks']\n",
    "starbucks_df = starbucks_df[['latitude', 'longitude']]\n",
    "\n",
    "kfc_df = df[df['chain_name'] == 'kfc']\n",
    "kfc_df = kfc_df[['latitude', 'longitude']]\n",
    "\n",
    "\n",
    "starbucks_layer = gmaps.symbol_layer(\n",
    "    starbucks_df, fill_color='rgba(0, 150, 0, 0.4)',\n",
    "    stroke_color='rgba(0, 150, 0, 0.4)', scale=2\n",
    ")\n",
    "\n",
    "kfc_layer = gmaps.symbol_layer(\n",
    "    kfc_df, fill_color='rgba(200, 0, 0, 0.4)',\n",
    "    stroke_color='rgba(200, 0, 0, 0.4)', scale=2\n",
    ")\n",
    "\n",
    "fig = gmaps.figure()\n",
    "fig.add_layer(starbucks_layer)\n",
    "fig.add_layer(kfc_layer)\n",
    "fig"
   ]
  }
 ],
 "metadata": {
  "kernelspec": {
   "display_name": "Python 3 (ipykernel)",
   "language": "python",
   "name": "python3"
  },
  "language_info": {
   "codemirror_mode": {
    "name": "ipython",
    "version": 3
   },
   "file_extension": ".py",
   "mimetype": "text/x-python",
   "name": "python",
   "nbconvert_exporter": "python",
   "pygments_lexer": "ipython3",
   "version": "3.8.9"
  }
 },
 "nbformat": 4,
 "nbformat_minor": 5
}